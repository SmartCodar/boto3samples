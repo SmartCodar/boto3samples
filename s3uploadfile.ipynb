{
  "nbformat": 4,
  "nbformat_minor": 0,
  "metadata": {
    "colab": {
      "provenance": [],
      "authorship_tag": "ABX9TyO2dBwBUJ6WOk4s0hCrNhtQ",
      "include_colab_link": true
    },
    "kernelspec": {
      "name": "python3",
      "display_name": "Python 3"
    },
    "language_info": {
      "name": "python"
    }
  },
  "cells": [
    {
      "cell_type": "markdown",
      "metadata": {
        "id": "view-in-github",
        "colab_type": "text"
      },
      "source": [
        "<a href=\"https://colab.research.google.com/github/SmartCodar/boto3samples/blob/main/s3uploadfile.ipynb\" target=\"_parent\"><img src=\"https://colab.research.google.com/assets/colab-badge.svg\" alt=\"Open In Colab\"/></a>"
      ]
    },
    {
      "cell_type": "markdown",
      "source": [
        "**Upload a file from local storage to AWS S3**"
      ],
      "metadata": {
        "id": "zNimxTF6dnj9"
      }
    },
    {
      "cell_type": "code",
      "source": [
        "!pip install awscli\n",
        "!pip3 install boto3"
      ],
      "metadata": {
        "id": "0om_g5cOdw5Q"
      },
      "execution_count": null,
      "outputs": []
    },
    {
      "cell_type": "code",
      "source": [
        "import os\n",
        "import sys\n",
        "import threading\n",
        "import boto3\n",
        "from boto3.s3.transfer import TransferConfig"
      ],
      "metadata": {
        "id": "FOc4tL0Id11f"
      },
      "execution_count": 2,
      "outputs": []
    },
    {
      "cell_type": "markdown",
      "source": [
        "**Prepare a AWS CLI Session with Access Key and Access Secret**"
      ],
      "metadata": {
        "id": "yGtXmxEYq5AG"
      }
    },
    {
      "cell_type": "code",
      "source": [
        "aws_access_key_id = '<<Your aws_access_key_id>>'\n",
        "aws_secret_access_key = '<<aws_secret_access_key>>'\n",
        "\n",
        "# Configure AWS credentials\n",
        "session = boto3.Session(\n",
        "    aws_access_key_id=aws_access_key_id,\n",
        "    aws_secret_access_key=aws_secret_access_key\n",
        ")"
      ],
      "metadata": {
        "id": "8WxWJDY_hwmH"
      },
      "execution_count": 12,
      "outputs": []
    },
    {
      "cell_type": "code",
      "execution_count": 34,
      "metadata": {
        "id": "wlyahUDbdD0u"
      },
      "outputs": [],
      "source": [
        "class UploadProgressPercentage(object):\n",
        "    def __init__(self, filename):\n",
        "        self._filename = filename\n",
        "        self._size = float(os.path.getsize(filename))\n",
        "        self.session = session\n",
        "        self._lock = threading.Lock()\n",
        "        self._uploaded = 0\n",
        "\n",
        "    def __call__(self, bytes_amount):\n",
        "        with self._lock:\n",
        "            self._uploaded += bytes_amount\n",
        "            progress = (self._uploaded / self._size) * 100\n",
        "            sys.stdout.write(\"\\rUploading file %s...  %.2f%%\" % (self._filename, progress))\n",
        "            sys.stdout.flush()\n",
        "\n",
        "    def upload_file(bucket_name, local_file_path, s3_file_path):\n",
        "        s3 = session.client('s3')\n",
        "\n",
        "        config = TransferConfig()\n",
        "        progress = UploadProgressPercentage(local_file_path)\n",
        "\n",
        "        s3.upload_file(\n",
        "            local_file_path,\n",
        "            bucket_name,\n",
        "            s3_file_path,\n",
        "            Config=config,\n",
        "            Callback=progress\n",
        "        )\n",
        "        print (f'\\n {filename} uploaded successfully on AWS Bucket {bucket_name}')"
      ]
    },
    {
      "cell_type": "markdown",
      "source": [
        "**Upload file to the AWS S3**"
      ],
      "metadata": {
        "id": "bbw0vLNpsMO9"
      }
    },
    {
      "cell_type": "code",
      "source": [
        "bucket_name = 'karteekq3'\n",
        "local_file_path = '/content/TortoiseGit-2.14.0.1-64bit.msi'\n",
        "filename = os.path.basename(local_file_path)\n",
        "UploadProgressPercentage.upload_file(bucket_name, local_file_path, filename)"
      ],
      "metadata": {
        "id": "LGiAraq1efEp"
      },
      "execution_count": null,
      "outputs": []
    }
  ]
}